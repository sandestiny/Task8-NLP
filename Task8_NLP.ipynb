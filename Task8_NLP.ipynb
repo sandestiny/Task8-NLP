{
  "nbformat": 4,
  "nbformat_minor": 0,
  "metadata": {
    "colab": {
      "provenance": [],
      "authorship_tag": "ABX9TyNiYs6zAmOd9QiIb5Vio/ox",
      "include_colab_link": true
    },
    "kernelspec": {
      "name": "python3",
      "display_name": "Python 3"
    },
    "language_info": {
      "name": "python"
    }
  },
  "cells": [
    {
      "cell_type": "markdown",
      "metadata": {
        "id": "view-in-github",
        "colab_type": "text"
      },
      "source": [
        "<a href=\"https://colab.research.google.com/github/sandestiny/Task8-NLP/blob/main/Task8_NLP.ipynb\" target=\"_parent\"><img src=\"https://colab.research.google.com/assets/colab-badge.svg\" alt=\"Open In Colab\"/></a>"
      ]
    },
    {
      "cell_type": "markdown",
      "source": [
        "**Task-1**\n",
        "You need to translate each word or sentence from English to Spanish, French\n",
        "and German"
      ],
      "metadata": {
        "id": "FI_Q7UhlR4Ub"
      }
    },
    {
      "cell_type": "code",
      "execution_count": null,
      "metadata": {
        "colab": {
          "base_uri": "https://localhost:8080/"
        },
        "id": "viZd468VRp7k",
        "outputId": "199d2884-f211-4186-d7cc-0ea22039ad00"
      },
      "outputs": [
        {
          "output_type": "stream",
          "name": "stdout",
          "text": [
            "Looking in indexes: https://pypi.org/simple, https://us-python.pkg.dev/colab-wheels/public/simple/\n",
            "Collecting deep-translator\n",
            "  Downloading deep_translator-1.9.0-py3-none-any.whl (29 kB)\n",
            "Collecting beautifulsoup4<5.0.0,>=4.9.1\n",
            "  Downloading beautifulsoup4-4.11.1-py3-none-any.whl (128 kB)\n",
            "\u001b[K     |████████████████████████████████| 128 kB 10.2 MB/s \n",
            "\u001b[?25hRequirement already satisfied: requests<3.0.0,>=2.23.0 in /usr/local/lib/python3.7/dist-packages (from deep-translator) (2.23.0)\n",
            "Collecting soupsieve>1.2\n",
            "  Downloading soupsieve-2.3.2.post1-py3-none-any.whl (37 kB)\n",
            "Requirement already satisfied: certifi>=2017.4.17 in /usr/local/lib/python3.7/dist-packages (from requests<3.0.0,>=2.23.0->deep-translator) (2022.9.24)\n",
            "Requirement already satisfied: idna<3,>=2.5 in /usr/local/lib/python3.7/dist-packages (from requests<3.0.0,>=2.23.0->deep-translator) (2.10)\n",
            "Requirement already satisfied: urllib3!=1.25.0,!=1.25.1,<1.26,>=1.21.1 in /usr/local/lib/python3.7/dist-packages (from requests<3.0.0,>=2.23.0->deep-translator) (1.24.3)\n",
            "Requirement already satisfied: chardet<4,>=3.0.2 in /usr/local/lib/python3.7/dist-packages (from requests<3.0.0,>=2.23.0->deep-translator) (3.0.4)\n",
            "Installing collected packages: soupsieve, beautifulsoup4, deep-translator\n",
            "  Attempting uninstall: beautifulsoup4\n",
            "    Found existing installation: beautifulsoup4 4.6.3\n",
            "    Uninstalling beautifulsoup4-4.6.3:\n",
            "      Successfully uninstalled beautifulsoup4-4.6.3\n",
            "Successfully installed beautifulsoup4-4.11.1 deep-translator-1.9.0 soupsieve-2.3.2.post1\n"
          ]
        }
      ],
      "source": [
        "!pip install deep-translator"
      ]
    },
    {
      "cell_type": "code",
      "source": [
        "import pandas as pd\n",
        "import nltk\n",
        "nltk.download('punkt')\n",
        "nltk.download('wordnet')\n",
        "from deep_translator import GoogleTranslator"
      ],
      "metadata": {
        "colab": {
          "base_uri": "https://localhost:8080/"
        },
        "id": "-Vrg_E7USDpZ",
        "outputId": "257210e4-518c-4b5c-f3bc-9f0fc520a4b0"
      },
      "execution_count": null,
      "outputs": [
        {
          "output_type": "stream",
          "name": "stderr",
          "text": [
            "[nltk_data] Downloading package punkt to /root/nltk_data...\n",
            "[nltk_data]   Unzipping tokenizers/punkt.zip.\n",
            "[nltk_data] Downloading package wordnet to /root/nltk_data...\n"
          ]
        }
      ]
    },
    {
      "cell_type": "code",
      "source": [
        "Trans_Eng = pd.read_csv(\"English.csv\")\n",
        "Trans_Eng.head()"
      ],
      "metadata": {
        "colab": {
          "base_uri": "https://localhost:8080/",
          "height": 206
        },
        "id": "RTTqfxceSL3G",
        "outputId": "7bd0d516-56c0-465d-dbfb-997dc98ff79d"
      },
      "execution_count": null,
      "outputs": [
        {
          "output_type": "execute_result",
          "data": {
            "text/plain": [
              "  English words/sentences\n",
              "0                     Hi.\n",
              "1                    Run!\n",
              "2                    Run!\n",
              "3                    Who?\n",
              "4                    Wow!"
            ],
            "text/html": [
              "\n",
              "  <div id=\"df-d8f963d0-0a2b-46f4-9944-f616e21189a8\">\n",
              "    <div class=\"colab-df-container\">\n",
              "      <div>\n",
              "<style scoped>\n",
              "    .dataframe tbody tr th:only-of-type {\n",
              "        vertical-align: middle;\n",
              "    }\n",
              "\n",
              "    .dataframe tbody tr th {\n",
              "        vertical-align: top;\n",
              "    }\n",
              "\n",
              "    .dataframe thead th {\n",
              "        text-align: right;\n",
              "    }\n",
              "</style>\n",
              "<table border=\"1\" class=\"dataframe\">\n",
              "  <thead>\n",
              "    <tr style=\"text-align: right;\">\n",
              "      <th></th>\n",
              "      <th>English words/sentences</th>\n",
              "    </tr>\n",
              "  </thead>\n",
              "  <tbody>\n",
              "    <tr>\n",
              "      <th>0</th>\n",
              "      <td>Hi.</td>\n",
              "    </tr>\n",
              "    <tr>\n",
              "      <th>1</th>\n",
              "      <td>Run!</td>\n",
              "    </tr>\n",
              "    <tr>\n",
              "      <th>2</th>\n",
              "      <td>Run!</td>\n",
              "    </tr>\n",
              "    <tr>\n",
              "      <th>3</th>\n",
              "      <td>Who?</td>\n",
              "    </tr>\n",
              "    <tr>\n",
              "      <th>4</th>\n",
              "      <td>Wow!</td>\n",
              "    </tr>\n",
              "  </tbody>\n",
              "</table>\n",
              "</div>\n",
              "      <button class=\"colab-df-convert\" onclick=\"convertToInteractive('df-d8f963d0-0a2b-46f4-9944-f616e21189a8')\"\n",
              "              title=\"Convert this dataframe to an interactive table.\"\n",
              "              style=\"display:none;\">\n",
              "        \n",
              "  <svg xmlns=\"http://www.w3.org/2000/svg\" height=\"24px\"viewBox=\"0 0 24 24\"\n",
              "       width=\"24px\">\n",
              "    <path d=\"M0 0h24v24H0V0z\" fill=\"none\"/>\n",
              "    <path d=\"M18.56 5.44l.94 2.06.94-2.06 2.06-.94-2.06-.94-.94-2.06-.94 2.06-2.06.94zm-11 1L8.5 8.5l.94-2.06 2.06-.94-2.06-.94L8.5 2.5l-.94 2.06-2.06.94zm10 10l.94 2.06.94-2.06 2.06-.94-2.06-.94-.94-2.06-.94 2.06-2.06.94z\"/><path d=\"M17.41 7.96l-1.37-1.37c-.4-.4-.92-.59-1.43-.59-.52 0-1.04.2-1.43.59L10.3 9.45l-7.72 7.72c-.78.78-.78 2.05 0 2.83L4 21.41c.39.39.9.59 1.41.59.51 0 1.02-.2 1.41-.59l7.78-7.78 2.81-2.81c.8-.78.8-2.07 0-2.86zM5.41 20L4 18.59l7.72-7.72 1.47 1.35L5.41 20z\"/>\n",
              "  </svg>\n",
              "      </button>\n",
              "      \n",
              "  <style>\n",
              "    .colab-df-container {\n",
              "      display:flex;\n",
              "      flex-wrap:wrap;\n",
              "      gap: 12px;\n",
              "    }\n",
              "\n",
              "    .colab-df-convert {\n",
              "      background-color: #E8F0FE;\n",
              "      border: none;\n",
              "      border-radius: 50%;\n",
              "      cursor: pointer;\n",
              "      display: none;\n",
              "      fill: #1967D2;\n",
              "      height: 32px;\n",
              "      padding: 0 0 0 0;\n",
              "      width: 32px;\n",
              "    }\n",
              "\n",
              "    .colab-df-convert:hover {\n",
              "      background-color: #E2EBFA;\n",
              "      box-shadow: 0px 1px 2px rgba(60, 64, 67, 0.3), 0px 1px 3px 1px rgba(60, 64, 67, 0.15);\n",
              "      fill: #174EA6;\n",
              "    }\n",
              "\n",
              "    [theme=dark] .colab-df-convert {\n",
              "      background-color: #3B4455;\n",
              "      fill: #D2E3FC;\n",
              "    }\n",
              "\n",
              "    [theme=dark] .colab-df-convert:hover {\n",
              "      background-color: #434B5C;\n",
              "      box-shadow: 0px 1px 3px 1px rgba(0, 0, 0, 0.15);\n",
              "      filter: drop-shadow(0px 1px 2px rgba(0, 0, 0, 0.3));\n",
              "      fill: #FFFFFF;\n",
              "    }\n",
              "  </style>\n",
              "\n",
              "      <script>\n",
              "        const buttonEl =\n",
              "          document.querySelector('#df-d8f963d0-0a2b-46f4-9944-f616e21189a8 button.colab-df-convert');\n",
              "        buttonEl.style.display =\n",
              "          google.colab.kernel.accessAllowed ? 'block' : 'none';\n",
              "\n",
              "        async function convertToInteractive(key) {\n",
              "          const element = document.querySelector('#df-d8f963d0-0a2b-46f4-9944-f616e21189a8');\n",
              "          const dataTable =\n",
              "            await google.colab.kernel.invokeFunction('convertToInteractive',\n",
              "                                                     [key], {});\n",
              "          if (!dataTable) return;\n",
              "\n",
              "          const docLinkHtml = 'Like what you see? Visit the ' +\n",
              "            '<a target=\"_blank\" href=https://colab.research.google.com/notebooks/data_table.ipynb>data table notebook</a>'\n",
              "            + ' to learn more about interactive tables.';\n",
              "          element.innerHTML = '';\n",
              "          dataTable['output_type'] = 'display_data';\n",
              "          await google.colab.output.renderOutput(dataTable, element);\n",
              "          const docLink = document.createElement('div');\n",
              "          docLink.innerHTML = docLinkHtml;\n",
              "          element.appendChild(docLink);\n",
              "        }\n",
              "      </script>\n",
              "    </div>\n",
              "  </div>\n",
              "  "
            ]
          },
          "metadata": {},
          "execution_count": 5
        }
      ]
    },
    {
      "cell_type": "code",
      "source": [
        "Trans_En = pd.DataFrame(Trans_Eng[\"English words/sentences\"].unique()).rename(columns = {0:'English Words'})\n",
        "print(Trans_En)"
      ],
      "metadata": {
        "colab": {
          "base_uri": "https://localhost:8080/"
        },
        "id": "thkSoprxTH1g",
        "outputId": "af4ae220-d46a-4a20-806b-f77e4a313249"
      },
      "execution_count": null,
      "outputs": [
        {
          "output_type": "stream",
          "name": "stdout",
          "text": [
            "                  English Words\n",
            "0                           Hi.\n",
            "1                          Run!\n",
            "2                          Who?\n",
            "3                          Wow!\n",
            "4                         Fire!\n",
            "...                         ...\n",
            "34066  Don't pull the plug yet.\n",
            "34067  Don't put it on my desk.\n",
            "34068  Don't read in this room.\n",
            "34069  Don't sit on that bench.\n",
            "34070            Don't state th\n",
            "\n",
            "[34071 rows x 1 columns]\n"
          ]
        }
      ]
    },
    {
      "cell_type": "code",
      "source": [
        "Trans_En[\"English Words\"] = Trans_En[\"English Words\"].str.replace(\"[^a-zA-Z0-9]\", \" \") \n",
        "Trans_En[\"English Words\"]"
      ],
      "metadata": {
        "colab": {
          "base_uri": "https://localhost:8080/"
        },
        "id": "ZLOc1XA1TMTB",
        "outputId": "00f672f5-935c-4533-e0a9-9cb85017551d"
      },
      "execution_count": null,
      "outputs": [
        {
          "output_type": "stream",
          "name": "stderr",
          "text": [
            "/usr/local/lib/python3.7/dist-packages/ipykernel_launcher.py:1: FutureWarning: The default value of regex will change from True to False in a future version.\n",
            "  \"\"\"Entry point for launching an IPython kernel.\n"
          ]
        },
        {
          "output_type": "execute_result",
          "data": {
            "text/plain": [
              "0                             Hi \n",
              "1                            Run \n",
              "2                            Who \n",
              "3                            Wow \n",
              "4                           Fire \n",
              "                   ...           \n",
              "34066    Don t pull the plug yet \n",
              "34067    Don t put it on my desk \n",
              "34068    Don t read in this room \n",
              "34069    Don t sit on that bench \n",
              "34070              Don t state th\n",
              "Name: English Words, Length: 34071, dtype: object"
            ]
          },
          "metadata": {},
          "execution_count": 7
        }
      ]
    },
    {
      "cell_type": "code",
      "source": [
        "Trans_En[\"English Words\"].head(50)"
      ],
      "metadata": {
        "colab": {
          "base_uri": "https://localhost:8080/"
        },
        "id": "7EV5C_AITQ6B",
        "outputId": "83efc776-90fa-425f-c521-092bbabbbb81"
      },
      "execution_count": null,
      "outputs": [
        {
          "output_type": "execute_result",
          "data": {
            "text/plain": [
              "0          Hi \n",
              "1         Run \n",
              "2         Who \n",
              "3         Wow \n",
              "4        Fire \n",
              "5        Help \n",
              "6        Jump \n",
              "7        Stop \n",
              "8        Wait \n",
              "9       Go on \n",
              "10      Hello \n",
              "11      I see \n",
              "12      I try \n",
              "13      I won \n",
              "14      I won \n",
              "15      Oh no \n",
              "16     Attack \n",
              "17     Cheers \n",
              "18     Get up \n",
              "19     Go now \n",
              "20     Got it \n",
              "21     Got it \n",
              "22     Hop in \n",
              "23     Hug me \n",
              "24     I fell \n",
              "25     I know \n",
              "26     I left \n",
              "27     I lied \n",
              "28     I lost \n",
              "29     I paid \n",
              "30     I m 19 \n",
              "31     I m OK \n",
              "32     Listen \n",
              "33     No way \n",
              "34     Really \n",
              "35     Thanks \n",
              "36     We try \n",
              "37     We won \n",
              "38    Ask Tom \n",
              "39    Awesome \n",
              "40    Be calm \n",
              "41    Be cool \n",
              "42    Be fair \n",
              "43    Be kind \n",
              "44    Be nice \n",
              "45    Beat it \n",
              "46    Call me \n",
              "47    Call us \n",
              "48    Come in \n",
              "49    Come on \n",
              "Name: English Words, dtype: object"
            ]
          },
          "metadata": {},
          "execution_count": 8
        }
      ]
    },
    {
      "cell_type": "markdown",
      "source": [
        "**Translate each word or sentence from English to French**"
      ],
      "metadata": {
        "id": "4823m66yUkUz"
      }
    },
    {
      "cell_type": "code",
      "source": [
        "def Translate(rev):\n",
        "    translation_tokenized = GoogleTranslator(source='english', target='fr').translate(rev)\n",
        "    return translation_tokenized"
      ],
      "metadata": {
        "id": "8wCiSFS4TVlv"
      },
      "execution_count": null,
      "outputs": []
    },
    {
      "cell_type": "code",
      "source": [
        "Trans_French_Words = [Translate(r) for r in Trans_En[\"English Words\"].head(50)]\n",
        "Trans_French_Words"
      ],
      "metadata": {
        "colab": {
          "base_uri": "https://localhost:8080/"
        },
        "id": "9zP8U9N6TcZU",
        "outputId": "1aa66625-d79f-4ff4-b1a9-ee0dd89bac49"
      },
      "execution_count": null,
      "outputs": [
        {
          "output_type": "execute_result",
          "data": {
            "text/plain": [
              "['Salut',\n",
              " 'Courir',\n",
              " 'Qui',\n",
              " 'Ouah',\n",
              " 'Feu',\n",
              " 'Aider',\n",
              " 'Saut',\n",
              " 'Arrêt',\n",
              " 'Attendre',\n",
              " 'Continue',\n",
              " 'Bonjour',\n",
              " 'Je vois',\n",
              " \"J'essaye\",\n",
              " \"J'ai gagné\",\n",
              " \"J'ai gagné\",\n",
              " 'Oh non',\n",
              " 'Attaque',\n",
              " 'Acclamations',\n",
              " 'Se lever',\n",
              " 'Allez maintenant',\n",
              " \"J'ai compris\",\n",
              " \"J'ai compris\",\n",
              " 'Monter dedans',\n",
              " 'Donne moi un câlin',\n",
              " 'je suis tombé',\n",
              " 'je sais',\n",
              " 'Je suis parti',\n",
              " \"j'ai menti\",\n",
              " \"J'ai perdu\",\n",
              " \"j'ai payé\",\n",
              " \"J'ai 19 ans\",\n",
              " 'Je vais bien',\n",
              " 'Ecoutez',\n",
              " 'Certainement pas',\n",
              " 'Vraiment',\n",
              " 'Merci',\n",
              " 'Nous essayons',\n",
              " 'Nous avons gagné',\n",
              " 'Demander à Tom',\n",
              " 'Impressionnant',\n",
              " 'Sois calme',\n",
              " 'Soit cool',\n",
              " 'Être juste',\n",
              " 'Etre gentil',\n",
              " 'Sois gentil',\n",
              " 'Batte-le',\n",
              " 'Appelez-moi',\n",
              " 'Appelez-nous',\n",
              " 'Entrez',\n",
              " 'Allez']"
            ]
          },
          "metadata": {},
          "execution_count": 10
        }
      ]
    },
    {
      "cell_type": "code",
      "source": [
        "Trans_French_Sentence = [Translate(r) for r in Trans_En[\"English Words\"].tail(50)]\n",
        "Trans_French_Sentence"
      ],
      "metadata": {
        "colab": {
          "base_uri": "https://localhost:8080/"
        },
        "id": "5fvHYktdTjWo",
        "outputId": "752ca0af-87ad-4545-d01e-dd1945df9e5c"
      },
      "execution_count": null,
      "outputs": [
        {
          "output_type": "execute_result",
          "data": {
            "text/plain": [
              "['Ça ne sent pas bon',\n",
              " 'Faire ça sera facile',\n",
              " 'Faire ça va être dur',\n",
              " 'Ne posez aucune question',\n",
              " 'Ne me demande plus ça',\n",
              " 'Ne me demande pas de faire ça',\n",
              " 'Ne me demande pas de faire ça',\n",
              " 'Ne sois pas si pessimiste',\n",
              " 'Ne sois pas trop dur avec moi',\n",
              " 'Ne me blâmez pas pour ça',\n",
              " 'Ne vous embêtez pas à vous lever',\n",
              " \"Ne prends pas la peine de m'appeler\",\n",
              " \"Ne le traite pas d'idiot\",\n",
              " 'Ne grimpez pas sur le mur',\n",
              " 'Ne grimpez pas au mur',\n",
              " 'Ne viens pas dans ma chambre',\n",
              " 'Ne comptez pas sur son aide',\n",
              " 'Ne traversez pas ce pont',\n",
              " 'Ne pas désobéir aux règles',\n",
              " 'Ne fais rien de stupide',\n",
              " \"Ne m'entraîne pas là-dedans\",\n",
              " \"Ne buvez pas d'alcool\",\n",
              " 'Ne pas manger entre les repas',\n",
              " 'Ne pas manger en lisant',\n",
              " 'Ne dis jamais son nom',\n",
              " \"N'oubliez pas les boissons\",\n",
              " \"N'oubliez pas le billet\",\n",
              " \"N'oubliez pas de m'appeler\",\n",
              " \"N'oubliez pas votre argent\",\n",
              " \"N'oubliez pas votre téléphone\",\n",
              " \"N'oubliez pas vos affaires\",\n",
              " 'Ne me donne pas ce regard',\n",
              " \"N'abandonne pas comme ça\",\n",
              " \"N'abandonne pas le combat\",\n",
              " 'Ne sortez pas après la tombée de la nuit',\n",
              " \"Ne blesse personne d'autre\",\n",
              " 'Ne me quitte pas encore Tom',\n",
              " \"Ne le laisse pas t'atteindre\",\n",
              " 'Ne regarde pas dans mon placard',\n",
              " 'Ne regarde pas dans la boîte',\n",
              " 'Ne faites pas de mouvements brusques',\n",
              " \"Ne m'oblige pas à te tirer dessus\",\n",
              " 'Ne me fais pas attendre longtemps',\n",
              " 'Ne faites pas de blagues stupides',\n",
              " 'Ne gâche pas mon système',\n",
              " 'Ne débranchez pas encore la prise',\n",
              " 'Ne le pose pas sur mon bureau',\n",
              " 'Ne lisez pas dans cette pièce',\n",
              " \"Ne t'assieds pas sur ce banc\",\n",
              " 'Ne le déclarez pas']"
            ]
          },
          "metadata": {},
          "execution_count": 11
        }
      ]
    },
    {
      "cell_type": "markdown",
      "source": [
        "**Translate each word or sentence from English to German**"
      ],
      "metadata": {
        "id": "buM4FvlRUa4B"
      }
    },
    {
      "cell_type": "code",
      "source": [
        "def Translate_De(rev):\n",
        "    translation_tokenized = GoogleTranslator(source='english', target='de').translate(rev)\n",
        "    return translation_tokenized"
      ],
      "metadata": {
        "id": "mZfMxbYaTpVg"
      },
      "execution_count": null,
      "outputs": []
    },
    {
      "cell_type": "code",
      "source": [
        "Trans_German_Words = [Translate_De(r) for r in Trans_En[\"English Words\"].head(50)]\n",
        "Trans_German_Words"
      ],
      "metadata": {
        "colab": {
          "base_uri": "https://localhost:8080/"
        },
        "id": "O_RJB6QrTti3",
        "outputId": "f22e8f57-d1bf-4edd-920c-c1702d416458"
      },
      "execution_count": null,
      "outputs": [
        {
          "output_type": "execute_result",
          "data": {
            "text/plain": [
              "['Hi',\n",
              " 'Laufen',\n",
              " 'Wer',\n",
              " 'Wow',\n",
              " 'Feuer',\n",
              " 'Hilfe',\n",
              " 'Springen',\n",
              " 'Halt',\n",
              " 'Warte ab',\n",
              " 'Mach weiter',\n",
              " 'Hallo',\n",
              " 'Aha',\n",
              " 'ich versuche',\n",
              " 'ich habe gewonnen',\n",
              " 'ich habe gewonnen',\n",
              " 'Ach nein',\n",
              " 'Attacke',\n",
              " 'Prost',\n",
              " 'Steh auf',\n",
              " 'Geh jetzt',\n",
              " 'Ich habs',\n",
              " 'Ich habs',\n",
              " 'Steigen Sie ein',\n",
              " 'Umarme mich',\n",
              " 'Ich fiel',\n",
              " 'Ich weiss',\n",
              " 'Ich ging weg',\n",
              " 'ich habe gelogen',\n",
              " 'Ich habe verloren',\n",
              " 'ich habe bezahlt',\n",
              " 'Ich bin 19',\n",
              " 'Ich bin OK',\n",
              " 'Hör mal zu',\n",
              " 'Auf keinen Fall',\n",
              " 'Wirklich',\n",
              " 'Vielen Dank',\n",
              " 'Wir versuchen',\n",
              " 'Wir haben gewonnen',\n",
              " 'Frag Tom',\n",
              " 'Genial',\n",
              " 'Ruhig sein',\n",
              " 'Sei cool',\n",
              " 'Sei fair',\n",
              " 'Sei freundlich',\n",
              " 'Sei nett',\n",
              " 'Mach dich vom Acker',\n",
              " 'Ruf mich an',\n",
              " 'Rufen Sie uns an',\n",
              " 'Komm herein',\n",
              " 'Komm schon']"
            ]
          },
          "metadata": {},
          "execution_count": 13
        }
      ]
    },
    {
      "cell_type": "code",
      "source": [
        "Trans_German_Sentence = [Translate_De(r) for r in Trans_En[\"English Words\"].tail(50)]\n",
        "Trans_German_Sentence"
      ],
      "metadata": {
        "colab": {
          "base_uri": "https://localhost:8080/"
        },
        "id": "RDeiGR6tT0XF",
        "outputId": "17c17742-c943-4d41-9a73-f3248cf8163a"
      },
      "execution_count": null,
      "outputs": [
        {
          "output_type": "execute_result",
          "data": {
            "text/plain": [
              "['Riecht das nicht gut',\n",
              " 'Das wird einfach sein',\n",
              " 'Das wird schwer',\n",
              " 'Stellen Sie keine Fragen',\n",
              " 'Frag mich das nicht noch einmal',\n",
              " 'Verlange das nicht von mir',\n",
              " 'Bitten Sie mich nicht, dies zu tun',\n",
              " 'Seien Sie nicht so pessimistisch',\n",
              " 'Sei nicht zu hart zu mir',\n",
              " 'Machen Sie mir das nicht vor',\n",
              " 'Mach dir nicht die Mühe aufzustehen',\n",
              " 'Rufen Sie mich nicht an',\n",
              " 'Nennen Sie ihn nicht einen Idioten',\n",
              " 'Klettern Sie nicht auf die Wand',\n",
              " 'Klettere nicht die Wand hoch',\n",
              " 'Komm nicht in mein Zimmer',\n",
              " 'Verlassen Sie sich nicht auf seine Hilfe',\n",
              " 'Überqueren Sie diese Brücke nicht',\n",
              " 'Missachten Sie die Regeln nicht',\n",
              " 'Mach nichts Dummes',\n",
              " 'Ziehen Sie mich nicht hinein',\n",
              " 'Trinken Sie keinen Alkohol',\n",
              " 'Essen Sie nicht zwischen den Mahlzeiten',\n",
              " 'Essen Sie nicht beim Lesen',\n",
              " 'Sag niemals ihren Namen',\n",
              " 'Getränke nicht vergessen',\n",
              " 'Ticket nicht vergessen',\n",
              " 'Vergessen Sie nicht, mich anzurufen',\n",
              " 'Vergiss dein Geld nicht',\n",
              " 'Vergessen Sie Ihr Telefon nicht',\n",
              " 'Vergiss deine Sachen nicht',\n",
              " 'Sieh mich nicht so an',\n",
              " 'Gib nicht so auf',\n",
              " 'Gib den Kampf nicht auf',\n",
              " 'Gehen Sie nicht nach Einbruch der Dunkelheit aus',\n",
              " 'Tu keinem anderen weh',\n",
              " 'Verlass mich noch nicht, Tom',\n",
              " 'Lass es nicht an dich ran',\n",
              " 'Schau nicht in meinen Schrank',\n",
              " 'Schauen Sie nicht in die Schachtel',\n",
              " 'Machen Sie keine abrupten Bewegungen',\n",
              " 'Zwingen Sie mich nicht, auf Sie zu schießen',\n",
              " 'Lass mich nicht lange warten',\n",
              " 'Mach keine dummen Witze',\n",
              " 'Bring mein System nicht durcheinander',\n",
              " 'Ziehen Sie noch nicht den Stecker',\n",
              " 'Legen Sie es nicht auf meinen Schreibtisch',\n",
              " 'Lesen Sie nicht in diesem Raum',\n",
              " 'Setzen Sie sich nicht auf diese Bank',\n",
              " 'Geben Sie das nicht an']"
            ]
          },
          "metadata": {},
          "execution_count": 14
        }
      ]
    },
    {
      "cell_type": "markdown",
      "source": [
        "**Translate each word or sentence from English to Spanish**"
      ],
      "metadata": {
        "id": "7z7_jy7hUXSe"
      }
    },
    {
      "cell_type": "code",
      "source": [
        "def Translate_Es(rev):\n",
        "    translation_tokenized = GoogleTranslator(source='english', target='es').translate(rev)\n",
        "    return translation_tokenized"
      ],
      "metadata": {
        "id": "Cd118wz3T9ZN"
      },
      "execution_count": null,
      "outputs": []
    },
    {
      "cell_type": "code",
      "source": [
        "Trans_Spanish_Words = [Translate_Es(r) for r in Trans_En[\"English Words\"].head(50)]\n",
        "Trans_Spanish_Words"
      ],
      "metadata": {
        "colab": {
          "base_uri": "https://localhost:8080/"
        },
        "id": "YYn2KZIRUA7Y",
        "outputId": "9072ddbb-fac9-49e7-c763-c8072ff2f2d6"
      },
      "execution_count": null,
      "outputs": [
        {
          "output_type": "execute_result",
          "data": {
            "text/plain": [
              "['Hola',\n",
              " 'Correr',\n",
              " 'Quién',\n",
              " 'Guau',\n",
              " 'Fuego',\n",
              " 'Ayuda',\n",
              " 'Salto',\n",
              " 'Deténgase',\n",
              " 'Esperar',\n",
              " 'Continuar',\n",
              " 'Hola',\n",
              " 'ya veo',\n",
              " 'lo intento',\n",
              " 'gané',\n",
              " 'gané',\n",
              " 'Oh, no',\n",
              " 'Ataque',\n",
              " 'Salud',\n",
              " 'Levantarse',\n",
              " 'Ve ahora',\n",
              " 'Entiendo',\n",
              " 'Entiendo',\n",
              " 'súbete',\n",
              " 'Abrázame',\n",
              " 'Me caí',\n",
              " 'lo sé',\n",
              " 'me fui',\n",
              " 'mentí',\n",
              " 'perdí',\n",
              " 'He pagado',\n",
              " 'Tengo 19',\n",
              " 'Estoy bien',\n",
              " 'Escuchar',\n",
              " 'De ninguna manera',\n",
              " 'En realidad',\n",
              " 'Gracias',\n",
              " 'Intentamos',\n",
              " 'Ganamos',\n",
              " 'preguntale a tom',\n",
              " 'Impresionante',\n",
              " 'Estate calmado',\n",
              " 'Relájate',\n",
              " 'Sé justo',\n",
              " 'Se amable',\n",
              " 'Se bueno',\n",
              " 'Batirlo',\n",
              " 'Llámame',\n",
              " 'Llámanos',\n",
              " 'Adelante',\n",
              " 'Vamos']"
            ]
          },
          "metadata": {},
          "execution_count": 16
        }
      ]
    },
    {
      "cell_type": "code",
      "source": [
        "Trans_Spanish_Sentence = [Translate_Es(r) for r in Trans_En[\"English Words\"].tail(50)]\n",
        "Trans_Spanish_Sentence"
      ],
      "metadata": {
        "colab": {
          "base_uri": "https://localhost:8080/"
        },
        "id": "Qqap38Q2UEn6",
        "outputId": "aacefb7a-1905-4887-adbb-d42823f26941"
      },
      "execution_count": null,
      "outputs": [
        {
          "output_type": "execute_result",
          "data": {
            "text/plain": [
              "['¿No huele bien?',\n",
              " 'Hacer eso será fácil',\n",
              " 'hacer eso sera dificil',\n",
              " 'no hagas ninguna pregunta',\n",
              " 'no me preguntes eso otra vez',\n",
              " 'no me pidas que haga eso',\n",
              " 'no me pidas que haga esto',\n",
              " 'no seas tan pesimista',\n",
              " 'no seas demasiado duro conmigo',\n",
              " 'no me culpes por esto',\n",
              " 'no te molestes en levantarte',\n",
              " 'no te molestes en llamarme',\n",
              " 'no lo llames idiota',\n",
              " 'no te subas a la pared',\n",
              " 'no te subas a la pared',\n",
              " 'no entres en mi cuarto',\n",
              " 'No cuentes con su ayuda',\n",
              " 'No cruces este puente',\n",
              " 'No desobedecer las reglas',\n",
              " 'no hagas nada tonto',\n",
              " 'No me arrastres a esto',\n",
              " 'no bebas nada de alcohol',\n",
              " 'No comas entre comidas',\n",
              " 'No comas mientras lees',\n",
              " 'Nunca digas su nombre',\n",
              " 'No olvides las bebidas',\n",
              " 'no olvides el billete',\n",
              " 'no olvides llamarme',\n",
              " 'no olvides tu dinero',\n",
              " 'no olvides tu telefono',\n",
              " 'no olvides tus cosas',\n",
              " 'no me des esa mirada',\n",
              " 'no te rindas asi',\n",
              " 'no abandones la lucha',\n",
              " 'No salgas después del anochecer',\n",
              " 'no lastimes a nadie mas',\n",
              " 'no me dejes todavía tom',\n",
              " 'no dejes que te afecte',\n",
              " 'No mires en mi armario',\n",
              " 'No mires dentro de la caja.',\n",
              " 'No hagas movimientos bruscos',\n",
              " 'no me hagas dispararte',\n",
              " 'no me hagas esperar mucho',\n",
              " 'no hagas chistes estupidos',\n",
              " 'No estropees mi sistema',\n",
              " 'No tire del enchufe todavía',\n",
              " 'No lo pongas en mi escritorio.',\n",
              " 'No leas en esta habitación.',\n",
              " 'no te sientes en ese banco',\n",
              " 'No digas']"
            ]
          },
          "metadata": {},
          "execution_count": 17
        }
      ]
    },
    {
      "cell_type": "markdown",
      "source": [
        "**Task-2**\n",
        "\n",
        "Create a program that needs to automatically correct that spelling from the word or a given sentence. (Language : English)\n",
        "\n",
        "**Note:** show 100 data point outputs both in words and sentence."
      ],
      "metadata": {
        "id": "gi8ta8tjUoCg"
      }
    },
    {
      "cell_type": "code",
      "source": [
        "!pip install pyspellchecker"
      ],
      "metadata": {
        "colab": {
          "base_uri": "https://localhost:8080/"
        },
        "id": "k1BmCdUUULS4",
        "outputId": "406a967c-eba7-4dc4-c849-a9646fe5c476"
      },
      "execution_count": null,
      "outputs": [
        {
          "output_type": "stream",
          "name": "stdout",
          "text": [
            "Looking in indexes: https://pypi.org/simple, https://us-python.pkg.dev/colab-wheels/public/simple/\n",
            "Collecting pyspellchecker\n",
            "  Downloading pyspellchecker-0.7.0-py3-none-any.whl (2.5 MB)\n",
            "\u001b[K     |████████████████████████████████| 2.5 MB 7.6 MB/s \n",
            "\u001b[?25hInstalling collected packages: pyspellchecker\n",
            "Successfully installed pyspellchecker-0.7.0\n"
          ]
        }
      ]
    },
    {
      "cell_type": "code",
      "source": [
        "from spellchecker import SpellChecker\n",
        " \n",
        "specheck = SpellChecker()\n",
        "\n",
        "misspelled_words = specheck.unknown([\"cmputr\", \"watr\", \"wriet\", \"athist\", \"acceptible\", \"benifit\", \"acommodate\", \"amatuer\", \"acknowlege\", \"becomeing\", \n",
        "                            \"camoflague\", \"catagory\", \"cauhgt\", \"cematery\", \"apparrent\", \"congradulate\", \"conceed\", \"definit\", \"disasterous\", \"dilema\",\n",
        "                            \"equiptment \", \"excede\", \"experiance\", \"innoculate\", \"extreem\", \"guage\", \"gratful\", \"guidence\", \"heirarchy\", \"dumbell\",\n",
        "                            \"necessery\", \"inteligence\", \"kernal\", \"libary\", \"outragous\", \"marshmellow\", \"miniture\", \"medeval\", \"nieghbor\", \"origenal\"])\n",
        "\n",
        "for word in misspelled_words:\n",
        "    print(specheck.correction(word))"
      ],
      "metadata": {
        "colab": {
          "base_uri": "https://localhost:8080/"
        },
        "id": "HBVsn2s-U_iw",
        "outputId": "5b2f4a9f-5ea7-46d4-d02c-dacf47cc43cc"
      },
      "execution_count": null,
      "outputs": [
        {
          "output_type": "stream",
          "name": "stdout",
          "text": [
            "disastrous\n",
            "dilemma\n",
            "computer\n",
            "neighbor\n",
            "miniature\n",
            "dumbbell\n",
            "congratulate\n",
            "intelligence\n",
            "experience\n",
            "outrageous\n",
            "medieval\n",
            "grateful\n",
            "acknowledge\n",
            "marshmallow\n",
            "extreme\n",
            "hierarchy\n",
            "definite\n",
            "water\n",
            "becoming\n",
            "exceed\n",
            "equipment\n",
            "camouflage\n",
            "amateur\n",
            "inoculate\n",
            "caught\n",
            "category\n",
            "atheist\n",
            "kernel\n",
            "benefit\n",
            "cemetery\n",
            "necessary\n",
            "acceptable\n",
            "concede\n",
            "guidance\n",
            "library\n",
            "write\n",
            "gauge\n",
            "original\n",
            "accommodate\n",
            "apparent\n"
          ]
        }
      ]
    },
    {
      "cell_type": "code",
      "source": [
        "!sudo apt-get install swig"
      ],
      "metadata": {
        "colab": {
          "base_uri": "https://localhost:8080/"
        },
        "id": "p07RZzi7VGTc",
        "outputId": "c65c3c12-4f50-471b-c985-539a74bec295"
      },
      "execution_count": null,
      "outputs": [
        {
          "output_type": "stream",
          "name": "stdout",
          "text": [
            "Reading package lists... Done\n",
            "Building dependency tree       \n",
            "Reading state information... Done\n",
            "The following package was automatically installed and is no longer required:\n",
            "  libnvidia-common-460\n",
            "Use 'sudo apt autoremove' to remove it.\n",
            "The following additional packages will be installed:\n",
            "  swig3.0\n",
            "Suggested packages:\n",
            "  swig-doc swig-examples swig3.0-examples swig3.0-doc\n",
            "The following NEW packages will be installed:\n",
            "  swig swig3.0\n",
            "0 upgraded, 2 newly installed, 0 to remove and 4 not upgraded.\n",
            "Need to get 1,100 kB of archives.\n",
            "After this operation, 5,822 kB of additional disk space will be used.\n",
            "Get:1 http://archive.ubuntu.com/ubuntu bionic/universe amd64 swig3.0 amd64 3.0.12-1 [1,094 kB]\n",
            "Get:2 http://archive.ubuntu.com/ubuntu bionic/universe amd64 swig amd64 3.0.12-1 [6,460 B]\n",
            "Fetched 1,100 kB in 1s (1,629 kB/s)\n",
            "debconf: unable to initialize frontend: Dialog\n",
            "debconf: (No usable dialog-like program is installed, so the dialog based frontend cannot be used. at /usr/share/perl5/Debconf/FrontEnd/Dialog.pm line 76, <> line 2.)\n",
            "debconf: falling back to frontend: Readline\n",
            "debconf: unable to initialize frontend: Readline\n",
            "debconf: (This frontend requires a controlling tty.)\n",
            "debconf: falling back to frontend: Teletype\n",
            "dpkg-preconfigure: unable to re-open stdin: \n",
            "Selecting previously unselected package swig3.0.\n",
            "(Reading database ... 123941 files and directories currently installed.)\n",
            "Preparing to unpack .../swig3.0_3.0.12-1_amd64.deb ...\n",
            "Unpacking swig3.0 (3.0.12-1) ...\n",
            "Selecting previously unselected package swig.\n",
            "Preparing to unpack .../swig_3.0.12-1_amd64.deb ...\n",
            "Unpacking swig (3.0.12-1) ...\n",
            "Setting up swig3.0 (3.0.12-1) ...\n",
            "Setting up swig (3.0.12-1) ...\n",
            "Processing triggers for man-db (2.8.3-2ubuntu0.1) ...\n"
          ]
        }
      ]
    },
    {
      "cell_type": "code",
      "source": [
        "!sudo pip install jamspell"
      ],
      "metadata": {
        "colab": {
          "base_uri": "https://localhost:8080/"
        },
        "id": "l4NCtCb2VLxA",
        "outputId": "f97db1bc-7b97-40e0-e794-de03a5d13a98"
      },
      "execution_count": null,
      "outputs": [
        {
          "output_type": "stream",
          "name": "stdout",
          "text": [
            "Looking in indexes: https://pypi.org/simple, https://us-python.pkg.dev/colab-wheels/public/simple/\n",
            "Collecting jamspell\n",
            "  Downloading jamspell-0.0.12.tar.gz (174 kB)\n",
            "\u001b[K     |████████████████████████████████| 174 kB 7.4 MB/s \n",
            "\u001b[?25hBuilding wheels for collected packages: jamspell\n",
            "  Building wheel for jamspell (setup.py) ... \u001b[?25l\u001b[?25hdone\n",
            "  Created wheel for jamspell: filename=jamspell-0.0.12-cp37-cp37m-linux_x86_64.whl size=1347613 sha256=bfb0b2e96a48109b5e94ff3e135a0d3bbfc1b853cb17ff71ed0e5c6769a2554a\n",
            "  Stored in directory: /root/.cache/pip/wheels/68/df/9c/9b335e69aa0f28e7f508ec0ebefadcc703f168beb52ae7ebe7\n",
            "Successfully built jamspell\n",
            "Installing collected packages: jamspell\n",
            "Successfully installed jamspell-0.0.12\n"
          ]
        }
      ]
    },
    {
      "cell_type": "code",
      "source": [
        "!wget https://github.com/bakwc/JamSpell-models/raw/master/en.tar.gz"
      ],
      "metadata": {
        "colab": {
          "base_uri": "https://localhost:8080/"
        },
        "id": "KXddzEkqVQn9",
        "outputId": "5cab1a9f-c9e7-4e42-d5f1-d520e4ed06bf"
      },
      "execution_count": null,
      "outputs": [
        {
          "output_type": "stream",
          "name": "stdout",
          "text": [
            "--2022-11-04 06:28:50--  https://github.com/bakwc/JamSpell-models/raw/master/en.tar.gz\n",
            "Resolving github.com (github.com)... 192.30.255.112\n",
            "Connecting to github.com (github.com)|192.30.255.112|:443... connected.\n",
            "HTTP request sent, awaiting response... 302 Found\n",
            "Location: https://raw.githubusercontent.com/bakwc/JamSpell-models/master/en.tar.gz [following]\n",
            "--2022-11-04 06:28:50--  https://raw.githubusercontent.com/bakwc/JamSpell-models/master/en.tar.gz\n",
            "Resolving raw.githubusercontent.com (raw.githubusercontent.com)... 185.199.111.133, 185.199.108.133, 185.199.110.133, ...\n",
            "Connecting to raw.githubusercontent.com (raw.githubusercontent.com)|185.199.111.133|:443... connected.\n",
            "HTTP request sent, awaiting response... 200 OK\n",
            "Length: 36611828 (35M) [application/octet-stream]\n",
            "Saving to: ‘en.tar.gz’\n",
            "\n",
            "en.tar.gz           100%[===================>]  34.92M   154MB/s    in 0.2s    \n",
            "\n",
            "2022-11-04 06:28:52 (154 MB/s) - ‘en.tar.gz’ saved [36611828/36611828]\n",
            "\n"
          ]
        }
      ]
    },
    {
      "cell_type": "code",
      "source": [
        "!tar -xvf en.tar.gz"
      ],
      "metadata": {
        "colab": {
          "base_uri": "https://localhost:8080/"
        },
        "id": "30HlyPNPVZ6U",
        "outputId": "199bfc2e-e1a4-4836-fd5c-d8a22d2fede8"
      },
      "execution_count": null,
      "outputs": [
        {
          "output_type": "stream",
          "name": "stdout",
          "text": [
            "en.bin\n"
          ]
        }
      ]
    },
    {
      "cell_type": "code",
      "source": [
        "import jamspell"
      ],
      "metadata": {
        "id": "og_J4baWVce3"
      },
      "execution_count": null,
      "outputs": []
    },
    {
      "cell_type": "code",
      "source": [
        "jsp = jamspell.TSpellCorrector()\n",
        "assert jsp.LoadLangModel('en.bin')\n",
        " \n",
        "# To fix text automatically run FixFragment:\n",
        "print(jsp.FixFragment(\"I am the begt spell cherken\"))\n",
        "print(jsp.FixFragment(\"Watre fell on my computr\"))\n",
        "print(jsp.FixFragment(\"Athiest is one who does not beleve in God\"))\n",
        "print(jsp.FixFragment(\"I am extreemly greatful to you\"))\n",
        "print(jsp.FixFragment(\"Is this reelly necessery?\"))\n",
        "print(jsp.FixFragment(\"I am in a real dilema whether to buy flourescent bulb or a LED bulb\"))\n",
        "print(jsp.FixFragment(\"He conceeded defeat and congradulated the winner\"))\n",
        "print(jsp.FixFragment(\"His nieghbor has a libary at the end of this streat\"))\n",
        "print(jsp.FixFragment(\"He perfomed well in Miniture Golf and exceded everyone's expectation\"))\n",
        "print(jsp.FixFragment(\"Due to heavy rains, the brige colapsed and resulted in a number of casulities\"))\n",
        "print(jsp.FixFragment(\"Pationce is a vitue\"))\n",
        "print(jsp.FixFragment(\"Taking a week-long vacaton would braek the bank. There’s no way I could aford to do it\"))\n",
        "print(jsp.FixFragment(\"The traffic cop receves kicbacks for not writting tickets to politicians\"))\n",
        "print(jsp.FixFragment(\"The Louvre Musem in Paris has the genuin Mona Lisa\")) "
      ],
      "metadata": {
        "colab": {
          "base_uri": "https://localhost:8080/"
        },
        "id": "TEl3t8E4VjUS",
        "outputId": "872b60f7-34e3-42ae-aed8-fa3b6eca06ca"
      },
      "execution_count": null,
      "outputs": [
        {
          "output_type": "stream",
          "name": "stdout",
          "text": [
            "I am the best spell checker\n",
            "Water fell on my computer\n",
            "Atheist is one who does not believe in God\n",
            "I am extremely grateful to you\n",
            "Is this really necessary?\n",
            "I am in a real dilemma whether to buy fluorescent bulb or a LED bulb\n",
            "He conceded defeat and congratulated the winner\n",
            "His neighbor has a library at the end of this street\n",
            "He performed well in Miniature Golf and exceeded everyone's expectation\n",
            "Due to heavy rains, the bridge collapsed and resulted in a number of casualties\n",
            "Patience is a virtue\n",
            "Taking a week-long vacation would break the bank. There’s no way I could afford to do it\n",
            "The traffic cop receives kickbacks for not writing tickets to politicians\n",
            "The Louvre Museum in Paris has the genuine Mona Lisa\n"
          ]
        }
      ]
    },
    {
      "cell_type": "markdown",
      "source": [
        "**Task 3**\n",
        "Create an application that should be used by the HR Team to filter the resume based on the Skills."
      ],
      "metadata": {
        "id": "zzxY7aSqXx65"
      }
    },
    {
      "cell_type": "code",
      "source": [
        "!pip install docx2txt\n",
        "!pip install pypdf2"
      ],
      "metadata": {
        "colab": {
          "base_uri": "https://localhost:8080/"
        },
        "id": "FDJkJhoMk19e",
        "outputId": "c74044df-1ae6-4653-fea6-cec53dd60ac1"
      },
      "execution_count": null,
      "outputs": [
        {
          "output_type": "stream",
          "name": "stdout",
          "text": [
            "Looking in indexes: https://pypi.org/simple, https://us-python.pkg.dev/colab-wheels/public/simple/\n",
            "Collecting docx2txt\n",
            "  Downloading docx2txt-0.8.tar.gz (2.8 kB)\n",
            "Building wheels for collected packages: docx2txt\n",
            "  Building wheel for docx2txt (setup.py) ... \u001b[?25l\u001b[?25hdone\n",
            "  Created wheel for docx2txt: filename=docx2txt-0.8-py3-none-any.whl size=3980 sha256=2ac480a516f0025053579748da766cec7302416e381a24b21b630896a12d33e0\n",
            "  Stored in directory: /root/.cache/pip/wheels/b7/20/b2/473e3aea9a0c0d3e7b2f7bd81d06d0794fec12752733d1f3a8\n",
            "Successfully built docx2txt\n",
            "Installing collected packages: docx2txt\n",
            "Successfully installed docx2txt-0.8\n",
            "Looking in indexes: https://pypi.org/simple, https://us-python.pkg.dev/colab-wheels/public/simple/\n",
            "Collecting pypdf2\n",
            "  Downloading PyPDF2-2.11.1-py3-none-any.whl (220 kB)\n",
            "\u001b[K     |████████████████████████████████| 220 kB 8.7 MB/s \n",
            "\u001b[?25hRequirement already satisfied: typing-extensions>=3.10.0.0 in /usr/local/lib/python3.7/dist-packages (from pypdf2) (4.1.1)\n",
            "Installing collected packages: pypdf2\n",
            "Successfully installed pypdf2-2.11.1\n"
          ]
        }
      ]
    },
    {
      "cell_type": "code",
      "source": [
        "import docx2txt\n",
        "from PyPDF2 import PdfFileReader, PdfFileWriter, PdfFileMerger\n"
      ],
      "metadata": {
        "id": "_KTT52xUlI4t"
      },
      "execution_count": null,
      "outputs": []
    },
    {
      "cell_type": "code",
      "source": [
        "def doctotext(m):\n",
        "    temp = docx2txt.process(m)\n",
        "    resume_text = [line.replace('\\t', ' ') for line in temp.split('\\n') if line]\n",
        "    text = ' '.join(resume_text)\n",
        "    return (text)"
      ],
      "metadata": {
        "id": "ppX6JEcYlNoh"
      },
      "execution_count": null,
      "outputs": []
    },
    {
      "cell_type": "code",
      "source": [
        "def pdftotext(m):\n",
        "    pdfFileObj = open(m, 'rb')\n",
        "    pdfFileReader = PdfFileReader(pdfFileObj)\n",
        "    num_pages = pdfFileReader.numPages\n",
        "    currentPageNumber = 0\n",
        "    text = ''\n",
        "    while(currentPageNumber < num_pages ):\n",
        "      pdfPage = pdfFileReader.getPage(currentPageNumber)\n",
        "      text = text + pdfPage.extractText()\n",
        "      currentPageNumber += 1\n",
        "    return (text)\n"
      ],
      "metadata": {
        "id": "lBigbGtrlUB7"
      },
      "execution_count": null,
      "outputs": []
    },
    {
      "cell_type": "code",
      "source": [
        "pip install tabula-py"
      ],
      "metadata": {
        "colab": {
          "base_uri": "https://localhost:8080/"
        },
        "id": "LAA-nBN0omos",
        "outputId": "e1a2cfb9-95a4-4bc2-84a5-c48075b37d63"
      },
      "execution_count": null,
      "outputs": [
        {
          "output_type": "stream",
          "name": "stdout",
          "text": [
            "Looking in indexes: https://pypi.org/simple, https://us-python.pkg.dev/colab-wheels/public/simple/\n",
            "Collecting tabula-py\n",
            "  Downloading tabula_py-2.5.1-py3-none-any.whl (12.0 MB)\n",
            "\u001b[K     |████████████████████████████████| 12.0 MB 8.2 MB/s \n",
            "\u001b[?25hRequirement already satisfied: numpy in /usr/local/lib/python3.7/dist-packages (from tabula-py) (1.21.6)\n",
            "Collecting distro\n",
            "  Downloading distro-1.8.0-py3-none-any.whl (20 kB)\n",
            "Requirement already satisfied: pandas>=0.25.3 in /usr/local/lib/python3.7/dist-packages (from tabula-py) (1.3.5)\n",
            "Requirement already satisfied: python-dateutil>=2.7.3 in /usr/local/lib/python3.7/dist-packages (from pandas>=0.25.3->tabula-py) (2.8.2)\n",
            "Requirement already satisfied: pytz>=2017.3 in /usr/local/lib/python3.7/dist-packages (from pandas>=0.25.3->tabula-py) (2022.5)\n",
            "Requirement already satisfied: six>=1.5 in /usr/local/lib/python3.7/dist-packages (from python-dateutil>=2.7.3->pandas>=0.25.3->tabula-py) (1.15.0)\n",
            "Installing collected packages: distro, tabula-py\n",
            "Successfully installed distro-1.8.0 tabula-py-2.5.1\n"
          ]
        }
      ]
    },
    {
      "cell_type": "code",
      "source": [
        "from tabula import read_pdf\n",
        "df = read_pdf('Shan_AML.pdf')"
      ],
      "metadata": {
        "colab": {
          "base_uri": "https://localhost:8080/"
        },
        "id": "cZaUlIVUnITn",
        "outputId": "7ae90a1c-39e9-4ff8-d6d0-7f6fd56a7923"
      },
      "execution_count": null,
      "outputs": [
        {
          "output_type": "stream",
          "name": "stderr",
          "text": [
            "WARNING:tabula.util:'pages' argument isn't specified.Will extract only from page 1 by default.\n",
            "WARNING:tabula.io:Got stderr: Nov 04, 2022 7:53:51 AM org.apache.pdfbox.pdmodel.font.FileSystemFontProvider loadDiskCache\n",
            "WARNING: New fonts found, font cache will be re-built\n",
            "Nov 04, 2022 7:53:51 AM org.apache.pdfbox.pdmodel.font.FileSystemFontProvider <init>\n",
            "WARNING: Building on-disk font cache, this may take a while\n",
            "Nov 04, 2022 7:53:51 AM org.apache.pdfbox.pdmodel.font.FileSystemFontProvider <init>\n",
            "WARNING: Finished building on-disk font cache, found 17 fonts\n",
            "Nov 04, 2022 7:53:51 AM org.apache.pdfbox.pdmodel.font.PDTrueTypeFont <init>\n",
            "WARNING: Using fallback font 'LiberationSans' for 'TimesNewRomanPS-ItalicMT'\n",
            "Nov 04, 2022 7:53:51 AM org.apache.pdfbox.pdmodel.font.PDTrueTypeFont <init>\n",
            "WARNING: Using fallback font 'LiberationSans' for 'TimesNewRomanPSMT'\n",
            "Nov 04, 2022 7:53:51 AM org.apache.pdfbox.pdmodel.font.PDTrueTypeFont <init>\n",
            "WARNING: Using fallback font 'LiberationSans-Bold' for 'TimesNewRomanPS-BoldItalicMT'\n",
            "Nov 04, 2022 7:53:51 AM org.apache.pdfbox.pdmodel.font.PDTrueTypeFont <init>\n",
            "WARNING: Using fallback font 'LiberationSans-Bold' for 'TimesNewRomanPS-BoldMT'\n",
            "Nov 04, 2022 7:53:54 AM org.apache.pdfbox.pdmodel.font.PDTrueTypeFont <init>\n",
            "WARNING: Using fallback font 'LiberationSans' for 'TimesNewRomanPS-ItalicMT'\n",
            "Nov 04, 2022 7:53:54 AM org.apache.pdfbox.pdmodel.font.PDTrueTypeFont <init>\n",
            "WARNING: Using fallback font 'LiberationSans' for 'TimesNewRomanPSMT'\n",
            "Nov 04, 2022 7:53:54 AM org.apache.pdfbox.pdmodel.font.PDTrueTypeFont <init>\n",
            "WARNING: Using fallback font 'LiberationSans-Bold' for 'TimesNewRomanPS-BoldItalicMT'\n",
            "Nov 04, 2022 7:53:54 AM org.apache.pdfbox.pdmodel.font.PDTrueTypeFont <init>\n",
            "WARNING: Using fallback font 'LiberationSans-Bold' for 'TimesNewRomanPS-BoldMT'\n",
            "\n"
          ]
        }
      ]
    },
    {
      "cell_type": "code",
      "source": [
        "if __name__ == '__main__': \n",
        "\n",
        "    FilePath = 'Shan_AML.pdf'\n",
        "    FilePath.lower().endswith(('.png', '.docx'))\n",
        "    if FilePath.endswith('.docx'):\n",
        "      textinput = doctotext(FilePath) \n",
        "    elif FilePath.endswith('.pdf'):\n",
        "      textinput = pdftotext(FilePath)\n",
        "    else:\n",
        "      print(\"File not support\")"
      ],
      "metadata": {
        "id": "f0Gto1fjmY4D"
      },
      "execution_count": null,
      "outputs": []
    },
    {
      "cell_type": "code",
      "source": [
        "import re\n",
        "import nltk\n",
        "nltk.download('stopwords')\n",
        "from nltk.corpus import stopwords\n",
        "stop = stopwords.words('english')\n",
        "nltk.download('punkt')\n",
        "nltk.download('averaged_perceptron_tagger')\n",
        "nltk.download('maxent_ne_chunker')\n",
        "nltk.download('words')\n",
        "import spacy\n",
        "import en_core_web_sm\n",
        "from spacy.matcher import Matcher"
      ],
      "metadata": {
        "colab": {
          "base_uri": "https://localhost:8080/"
        },
        "id": "RI2CWRKQo_Gq",
        "outputId": "d55a7581-72dd-4a31-d68e-04544a1e4a8e"
      },
      "execution_count": null,
      "outputs": [
        {
          "output_type": "stream",
          "name": "stderr",
          "text": [
            "[nltk_data] Downloading package stopwords to /root/nltk_data...\n",
            "[nltk_data]   Unzipping corpora/stopwords.zip.\n",
            "[nltk_data] Downloading package punkt to /root/nltk_data...\n",
            "[nltk_data]   Package punkt is already up-to-date!\n",
            "[nltk_data] Downloading package averaged_perceptron_tagger to\n",
            "[nltk_data]     /root/nltk_data...\n",
            "[nltk_data]   Unzipping taggers/averaged_perceptron_tagger.zip.\n",
            "[nltk_data] Downloading package maxent_ne_chunker to\n",
            "[nltk_data]     /root/nltk_data...\n",
            "[nltk_data]   Unzipping chunkers/maxent_ne_chunker.zip.\n",
            "[nltk_data] Downloading package words to /root/nltk_data...\n",
            "[nltk_data]   Unzipping corpora/words.zip.\n"
          ]
        }
      ]
    },
    {
      "cell_type": "code",
      "source": [
        "nlp = en_core_web_sm.load()"
      ],
      "metadata": {
        "colab": {
          "base_uri": "https://localhost:8080/"
        },
        "id": "-DJVpbm5pD0_",
        "outputId": "7b0a2044-ba02-4e6b-f1a1-41c3fd652969"
      },
      "execution_count": null,
      "outputs": [
        {
          "output_type": "stream",
          "name": "stderr",
          "text": [
            "/usr/local/lib/python3.7/dist-packages/spacy/language.py:1899: UserWarning: [W123] Argument disable with value [] is used instead of ['senter'] as specified in the config. Be aware that this might affect other components in your pipeline.\n",
            "  config_value=config[\"nlp\"][key],\n"
          ]
        }
      ]
    },
    {
      "cell_type": "code",
      "source": [
        "matcher = Matcher(nlp.vocab)"
      ],
      "metadata": {
        "id": "vl_BTWLipHkx"
      },
      "execution_count": null,
      "outputs": []
    },
    {
      "cell_type": "code",
      "source": [
        "def extract_name(resume_text):\n",
        "    nlp_text = nlp(resume_text)"
      ],
      "metadata": {
        "id": "ak15wzxouqYA"
      },
      "execution_count": null,
      "outputs": []
    },
    {
      "cell_type": "code",
      "source": [
        "    pattern = [{'POS': 'PROPN'}, {'POS': 'PROPN'}]"
      ],
      "metadata": {
        "id": "P2_pPgRhutdv"
      },
      "execution_count": null,
      "outputs": []
    },
    {
      "cell_type": "code",
      "source": [
        "    matcher.add('NAME', [pattern])"
      ],
      "metadata": {
        "id": "PLkW5Kv_uxn7"
      },
      "execution_count": null,
      "outputs": []
    }
  ]
}